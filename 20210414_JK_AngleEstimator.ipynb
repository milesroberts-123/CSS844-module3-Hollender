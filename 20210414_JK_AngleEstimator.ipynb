{
 "cells": [
  {
   "cell_type": "markdown",
   "metadata": {},
   "source": [
    "# Import necessary libraries"
   ]
  },
  {
   "cell_type": "code",
   "execution_count": 1,
   "metadata": {},
   "outputs": [],
   "source": [
    "import numpy as np\n",
    "import pandas as pd"
   ]
  },
  {
   "cell_type": "markdown",
   "metadata": {},
   "source": [
    "# Import skeleton from plantscan3d as .txt file (MTG)"
   ]
  },
  {
   "cell_type": "code",
   "execution_count": 2,
   "metadata": {},
   "outputs": [
    {
     "name": "stderr",
     "output_type": "stream",
     "text": [
      "E:\\anaconda3\\lib\\site-packages\\pandas\\core\\indexing.py:1637: SettingWithCopyWarning: \n",
      "A value is trying to be set on a copy of a slice from a DataFrame\n",
      "\n",
      "See the caveats in the documentation: https://pandas.pydata.org/pandas-docs/stable/user_guide/indexing.html#returning-a-view-versus-a-copy\n",
      "  self._setitem_single_block(indexer, value, name)\n"
     ]
    },
    {
     "data": {
      "text/html": [
       "<div>\n",
       "<style scoped>\n",
       "    .dataframe tbody tr th:only-of-type {\n",
       "        vertical-align: middle;\n",
       "    }\n",
       "\n",
       "    .dataframe tbody tr th {\n",
       "        vertical-align: top;\n",
       "    }\n",
       "\n",
       "    .dataframe thead th {\n",
       "        text-align: right;\n",
       "    }\n",
       "</style>\n",
       "<table border=\"1\" class=\"dataframe\">\n",
       "  <thead>\n",
       "    <tr style=\"text-align: right;\">\n",
       "      <th></th>\n",
       "      <th>Node</th>\n",
       "      <th>Parent</th>\n",
       "      <th>X</th>\n",
       "      <th>Y</th>\n",
       "      <th>Z</th>\n",
       "    </tr>\n",
       "  </thead>\n",
       "  <tbody>\n",
       "    <tr>\n",
       "      <th>0</th>\n",
       "      <td>2</td>\n",
       "      <td>0</td>\n",
       "      <td>-0.000024</td>\n",
       "      <td>-0.071371</td>\n",
       "      <td>-0.021333</td>\n",
       "    </tr>\n",
       "    <tr>\n",
       "      <th>1</th>\n",
       "      <td>3</td>\n",
       "      <td>2</td>\n",
       "      <td>-0.000070</td>\n",
       "      <td>-0.068443</td>\n",
       "      <td>-0.019051</td>\n",
       "    </tr>\n",
       "    <tr>\n",
       "      <th>2</th>\n",
       "      <td>4</td>\n",
       "      <td>3</td>\n",
       "      <td>-0.000042</td>\n",
       "      <td>-0.063910</td>\n",
       "      <td>-0.015813</td>\n",
       "    </tr>\n",
       "    <tr>\n",
       "      <th>3</th>\n",
       "      <td>6</td>\n",
       "      <td>4</td>\n",
       "      <td>-0.001965</td>\n",
       "      <td>-0.037631</td>\n",
       "      <td>-0.015186</td>\n",
       "    </tr>\n",
       "    <tr>\n",
       "      <th>4</th>\n",
       "      <td>13</td>\n",
       "      <td>6</td>\n",
       "      <td>0.004141</td>\n",
       "      <td>-0.026538</td>\n",
       "      <td>-0.011465</td>\n",
       "    </tr>\n",
       "    <tr>\n",
       "      <th>5</th>\n",
       "      <td>22</td>\n",
       "      <td>13</td>\n",
       "      <td>0.009290</td>\n",
       "      <td>-0.017297</td>\n",
       "      <td>-0.004672</td>\n",
       "    </tr>\n",
       "    <tr>\n",
       "      <th>6</th>\n",
       "      <td>30</td>\n",
       "      <td>22</td>\n",
       "      <td>0.006994</td>\n",
       "      <td>-0.005217</td>\n",
       "      <td>-0.013308</td>\n",
       "    </tr>\n",
       "    <tr>\n",
       "      <th>7</th>\n",
       "      <td>31</td>\n",
       "      <td>22</td>\n",
       "      <td>0.017789</td>\n",
       "      <td>0.001448</td>\n",
       "      <td>-0.013766</td>\n",
       "    </tr>\n",
       "    <tr>\n",
       "      <th>8</th>\n",
       "      <td>36</td>\n",
       "      <td>30</td>\n",
       "      <td>0.007520</td>\n",
       "      <td>0.010052</td>\n",
       "      <td>-0.014293</td>\n",
       "    </tr>\n",
       "    <tr>\n",
       "      <th>9</th>\n",
       "      <td>41</td>\n",
       "      <td>36</td>\n",
       "      <td>0.013009</td>\n",
       "      <td>0.034582</td>\n",
       "      <td>-0.010445</td>\n",
       "    </tr>\n",
       "    <tr>\n",
       "      <th>10</th>\n",
       "      <td>48</td>\n",
       "      <td>41</td>\n",
       "      <td>0.013157</td>\n",
       "      <td>0.044801</td>\n",
       "      <td>-0.008259</td>\n",
       "    </tr>\n",
       "    <tr>\n",
       "      <th>11</th>\n",
       "      <td>49</td>\n",
       "      <td>41</td>\n",
       "      <td>0.022223</td>\n",
       "      <td>0.037827</td>\n",
       "      <td>-0.006641</td>\n",
       "    </tr>\n",
       "  </tbody>\n",
       "</table>\n",
       "</div>"
      ],
      "text/plain": [
       "    Node  Parent         X         Y         Z\n",
       "0      2       0 -0.000024 -0.071371 -0.021333\n",
       "1      3       2 -0.000070 -0.068443 -0.019051\n",
       "2      4       3 -0.000042 -0.063910 -0.015813\n",
       "3      6       4 -0.001965 -0.037631 -0.015186\n",
       "4     13       6  0.004141 -0.026538 -0.011465\n",
       "5     22      13  0.009290 -0.017297 -0.004672\n",
       "6     30      22  0.006994 -0.005217 -0.013308\n",
       "7     31      22  0.017789  0.001448 -0.013766\n",
       "8     36      30  0.007520  0.010052 -0.014293\n",
       "9     41      36  0.013009  0.034582 -0.010445\n",
       "10    48      41  0.013157  0.044801 -0.008259\n",
       "11    49      41  0.022223  0.037827 -0.006641"
      ]
     },
     "execution_count": 2,
     "metadata": {},
     "output_type": "execute_result"
    }
   ],
   "source": [
    "# Loading in data\n",
    "filename = 'two_node_list.txt' #put your filename here\n",
    "\n",
    "# setting everything up nicely\n",
    "\n",
    "my_array = pd.read_csv(filename,skiprows=3,sep='\\t',usecols=[0,1,3,4,5],names=['Node','Parent','X','Y','Z'])\n",
    "my_array['Parent'].loc[0] = 0\n",
    "my_array['Parent'] = my_array['Parent'].astype('int')\n",
    "\n",
    "# visualize\n",
    "\n",
    "my_array"
   ]
  },
  {
   "cell_type": "markdown",
   "metadata": {},
   "source": [
    "# Function for calculating branch angles"
   ]
  },
  {
   "cell_type": "code",
   "execution_count": 11,
   "metadata": {},
   "outputs": [],
   "source": [
    "# function for returning a list of angles\n",
    "\n",
    "def branch_angles(my_array):\n",
    "    \n",
    "    parents = my_array['Parent'] # getting all of the parent nodes\n",
    "    angles = [] # list of angles for final output\n",
    "    tested = [] #list of parents already tested\n",
    "\n",
    "    for parent in parents: # for each parent in the list\n",
    "        children = my_array[my_array['Parent'] == parent] # retrieve rows of dataframe that list the parent node as their parent\n",
    "        if len(children) >= 2 and parent not in tested: # if that's 2 or greater, it must be a branching point\n",
    "            parent_to_child_vectors = [] # list of vectors for branch vectors\n",
    "            tested.append(parent) # we're testing it now, so add this parent node to the tested list so we don't do it again\n",
    "            dot_products = [] # making a list of dot products for later\n",
    "            reference_node_number = my_array[my_array['Node'] == parent]['Parent']\n",
    "            reference_node_number = reference_node_number.values[0] # we need to first find the node preceding the parent to make a baseline vector\n",
    "            parent_node_coordinates = np.array([my_array[my_array['Node']==parent]['X'],my_array[my_array['Node']==parent]['Y'],my_array[my_array['Node']==parent]['Z']]) #get the coorddiinates of the parent node\n",
    "            reference_node_coordinates = np.array([my_array[my_array['Node']==reference_node_number]['X'],my_array[my_array['Node']==reference_node_number]['Y'],my_array[my_array['Node']==reference_node_number]['Z']]) # get the coordinates of the reference node\n",
    "            reference_to_parent_vector = [parent_node_coordinates - reference_node_coordinates] #subtract to get the vector\n",
    "            # for each child node, retrieve child node coordinates, make a child vector, calculate intervening branch angle and append to a list to check later\n",
    "            for i in range(len(children)): \n",
    "                child_node_number = children['Node'].iloc[i] \n",
    "                child_node_coordinates = np.array([my_array[my_array['Node']==child_node_number]['X'],my_array[my_array['Node']==child_node_number]['Y'],my_array[my_array['Node']==child_node_number]['Z']]) #getting child node coordinates\n",
    "                parent_to_child_vector = [parent_node_coordinates - child_node_coordinates] # calculating parent to child (or branch) vector\n",
    "                parent_to_child_vectors.append(parent_to_child_vector) #adding to the list\n",
    "                \n",
    "                # this section calculates the dot between each to \"branch\" vector with the reference vector, with the logic being that the \n",
    "                # highest dot product will correspond to the branch vector/reference vector with the highest similarity to one another.\n",
    "                # We'll treat this as the \"axis\" we compare against in the proper branch angle calculations\n",
    "                \n",
    "                unit_vector_1 = reference_to_parent_vector / np.linalg.norm(reference_to_parent_vector)\n",
    "                unit_vector_2 = parent_to_child_vector / np.linalg.norm(parent_to_child_vector)\n",
    "                unit_vector_1 = unit_vector_1.tolist()\n",
    "                unit_vector_2 = unit_vector_2.tolist()\n",
    "                unit_vector_1 = [unit_vector_1[0][0][0],unit_vector_1[0][1][0],unit_vector_1[0][2][0]]\n",
    "                unit_vector_2 = [unit_vector_2[0][0][0],unit_vector_2[0][1][0],unit_vector_2[0][2][0]]\n",
    "                dot_product = np.dot(unit_vector_1, unit_vector_2)\n",
    "                dot_products.append(dot_product)\n",
    "            max_index = np.argmax(dot_products) # finding which dot product is the higest and getting its index\n",
    "            reference_vector = parent_to_child_vectors[max_index] # retrieving the parent_to_child vector that corresponds to that maximal dot product\n",
    "\n",
    "            # now that we've established what we're comparing against, we go through each branch vector and compare to this reference (being sure to not report out the 0 degrees in the case where we're comparing the same things)\n",
    "            for i in range(len(parent_to_child_vectors)): \n",
    "                unit_vector_1 = reference_vector / np.linalg.norm(reference_vector)\n",
    "                unit_vector_2 = parent_to_child_vectors[i] / np.linalg.norm(parent_to_child_vectors[i])\n",
    "                unit_vector_1 = unit_vector_1.tolist()\n",
    "                unit_vector_2 = unit_vector_2.tolist()\n",
    "                unit_vector_1 = [unit_vector_1[0][0][0],unit_vector_1[0][1][0],unit_vector_1[0][2][0]]\n",
    "                unit_vector_2 = [unit_vector_2[0][0][0],unit_vector_2[0][1][0],unit_vector_2[0][2][0]]\n",
    "                dot_product = np.dot(unit_vector_1, unit_vector_2)\n",
    "                \n",
    "                # getting angle in radians, then converting to degrees\n",
    "                angle_in_radians = np.arccos(dot_product)\n",
    "                angle_in_degrees = np.degrees(angle_in_radians)\n",
    "                if angle_in_degrees != 0: #as long as it's not 0, add and report\n",
    "                    angles.append(angle_in_degrees)\n",
    "    return angles"
   ]
  },
  {
   "cell_type": "markdown",
   "metadata": {},
   "source": [
    "# Retrieve angles from our previously loaded array"
   ]
  },
  {
   "cell_type": "code",
   "execution_count": 12,
   "metadata": {},
   "outputs": [],
   "source": [
    "angles = branch_angles(my_array)"
   ]
  },
  {
   "cell_type": "markdown",
   "metadata": {},
   "source": [
    "# Print angles"
   ]
  },
  {
   "cell_type": "code",
   "execution_count": 13,
   "metadata": {},
   "outputs": [
    {
     "name": "stdout",
     "output_type": "stream",
     "text": [
      "[32.40380166749817, 66.9839271441569]\n"
     ]
    }
   ],
   "source": [
    "print(angles)"
   ]
  }
 ],
 "metadata": {
  "kernelspec": {
   "display_name": "Python 3",
   "language": "python",
   "name": "python3"
  },
  "language_info": {
   "codemirror_mode": {
    "name": "ipython",
    "version": 3
   },
   "file_extension": ".py",
   "mimetype": "text/x-python",
   "name": "python",
   "nbconvert_exporter": "python",
   "pygments_lexer": "ipython3",
   "version": "3.8.5"
  }
 },
 "nbformat": 4,
 "nbformat_minor": 4
}
