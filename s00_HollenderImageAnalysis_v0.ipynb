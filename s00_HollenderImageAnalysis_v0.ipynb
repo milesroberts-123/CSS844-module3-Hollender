{
 "cells": [
  {
   "cell_type": "markdown",
   "id": "concrete-cooking",
   "metadata": {},
   "source": [
    "# Hollender 3D image analysis\n",
    "## Author: Miles Roberts\n",
    "## Date: 2021-03-30\n",
    "## Goals:\n",
    "* Read in .ply files\n",
    "* Process images to get baseline skeletons that all subgroups will work with\n",
    "* Measure cool phenotypes\n",
    "## Link to cookbook: http://www.open3d.org/docs/release/tutorial/geometry/pointcloud.html#"
   ]
  },
  {
   "cell_type": "markdown",
   "id": "grand-citizen",
   "metadata": {},
   "source": [
    "## Mess around with ply files"
   ]
  },
  {
   "cell_type": "code",
   "execution_count": null,
   "id": "located-upset",
   "metadata": {},
   "outputs": [],
   "source": [
    "#import pptk\n",
    "import numpy as np\n",
    "import plyfile\n",
    "data = plyfile.PlyData.read('./Hollender_arabidopsis/arabidopsis lab test 4 (col).ply')['vertex']"
   ]
  },
  {
   "cell_type": "code",
   "execution_count": null,
   "id": "persistent-flashing",
   "metadata": {
    "scrolled": true
   },
   "outputs": [],
   "source": [
    "print(data)"
   ]
  },
  {
   "cell_type": "code",
   "execution_count": null,
   "id": "direct-isaac",
   "metadata": {},
   "outputs": [],
   "source": [
    "xyz = np.c_[data['x'], data['y'], data['z']]\n",
    "rgb = np.c_[data['red'], data['green'], data['blue']]\n",
    "n = np.c_[data['nx'], data['ny'], data['nz']]"
   ]
  },
  {
   "cell_type": "code",
   "execution_count": null,
   "id": "supposed-austin",
   "metadata": {},
   "outputs": [],
   "source": [
    "print(xyz)"
   ]
  },
  {
   "cell_type": "code",
   "execution_count": null,
   "id": "suited-metropolitan",
   "metadata": {},
   "outputs": [],
   "source": [
    "import numpy as np\n",
    "import open3d as o3d\n",
    "\n",
    "# Read .ply file\n",
    "input_file = \"./Hollender_arabidopsis/arabidopsis_lab_test_4_col.ply\"\n",
    "pcd = o3d.io.read_point_cloud(input_file) # Read the point cloud\n",
    "\n",
    "# Visualize the point cloud within open3d\n",
    "o3d.visualization.draw_geometries([pcd]) \n",
    "\n",
    "# Convert open3d format to numpy array\n",
    "# Here, you have the point cloud in numpy format. \n",
    "point_cloud_in_numpy = np.asarray(pcd.points) "
   ]
  },
  {
   "cell_type": "code",
   "execution_count": null,
   "id": "backed-jordan",
   "metadata": {
    "scrolled": true
   },
   "outputs": [],
   "source": [
    "#Downsampling\n",
    "downpcd = pcd.voxel_down_sample(voxel_size=0.01)\n",
    "o3d.visualization.draw_geometries([downpcd])"
   ]
  },
  {
   "cell_type": "code",
   "execution_count": null,
   "id": "accepted-tolerance",
   "metadata": {},
   "outputs": [],
   "source": [
    "import matplotlib as plt\n",
    "#clustering\n",
    "with o3d.utility.VerbosityContextManager(\n",
    "        o3d.utility.VerbosityLevel.Debug) as cm:\n",
    "    labels = np.array(\n",
    "        pcd.cluster_dbscan(eps=0.02, min_points=10, print_progress=True))\n",
    "\n",
    "max_label = labels.max()\n",
    "print(f\"point cloud has {max_label + 1} clusters\")\n",
    "colors = plt.pyplot.get_cmap(\"tab20\")(labels / (max_label if max_label > 0 else 1))\n",
    "colors[labels < 0] = 0\n",
    "pcd.colors = o3d.utility.Vector3dVector(colors[:, :3])\n",
    "o3d.visualization.draw_geometries([pcd])"
   ]
  },
  {
   "cell_type": "code",
   "execution_count": null,
   "id": "returning-skating",
   "metadata": {},
   "outputs": [],
   "source": [
    "plane_model, inliers = pcd.segment_plane(distance_threshold=0.01,\n",
    "                                         ransac_n=3,\n",
    "                                         num_iterations=1000)\n",
    "[a, b, c, d] = plane_model\n",
    "print(f\"Plane equation: {a:.2f}x + {b:.2f}y + {c:.2f}z + {d:.2f} = 0\")\n",
    "\n",
    "inlier_cloud = pcd.select_by_index(inliers)\n",
    "inlier_cloud.paint_uniform_color([1.0, 0, 0])\n",
    "outlier_cloud = pcd.select_by_index(inliers, invert=True)\n",
    "o3d.visualization.draw_geometries([inlier_cloud, outlier_cloud])"
   ]
  },
  {
   "cell_type": "markdown",
   "id": "designing-better",
   "metadata": {},
   "source": [
    "## Bring methods together to isolate plant"
   ]
  },
  {
   "cell_type": "markdown",
   "id": "immune-privilege",
   "metadata": {},
   "source": [
    "### Try downsampling before plane segmentation"
   ]
  },
  {
   "cell_type": "code",
   "execution_count": 1,
   "id": "current-struggle",
   "metadata": {},
   "outputs": [
    {
     "name": "stdout",
     "output_type": "stream",
     "text": [
      "Plane equation: 0.01x + -0.04y + 1.00z + 0.55 = 0\n"
     ]
    }
   ],
   "source": [
    "import numpy as np\n",
    "import open3d as o3d\n",
    "\n",
    "# Read .ply file\n",
    "input_file = \"./Hollender_arabidopsis/arabidopsis_lab_test_4_col.ply\"\n",
    "pcd = o3d.io.read_point_cloud(input_file) # Read the point cloud\n",
    "\n",
    "# Visualize the point cloud within open3d\n",
    "#o3d.visualization.draw_geometries([pcd]) \n",
    "\n",
    "# Convert open3d format to numpy array\n",
    "# Here, you have the point cloud in numpy format. \n",
    "point_cloud_in_numpy = np.asarray(pcd.points) \n",
    "\n",
    "#Downsampling\n",
    "downpcd = pcd.voxel_down_sample(voxel_size=0.005)\n",
    "o3d.visualization.draw_geometries([downpcd])\n",
    "\n",
    "#Identify plane in downsampled figure\n",
    "plane_model, inliers = downpcd.segment_plane(distance_threshold=0.01,\n",
    "                                         ransac_n=3,\n",
    "                                         num_iterations=1000)\n",
    "[a, b, c, d] = plane_model\n",
    "print(f\"Plane equation: {a:.2f}x + {b:.2f}y + {c:.2f}z + {d:.2f} = 0\")\n",
    "\n",
    "inlier_cloud = downpcd.select_by_index(inliers)\n",
    "inlier_cloud.paint_uniform_color([1.0, 0, 0])\n",
    "outlier_cloud = downpcd.select_by_index(inliers, invert=True)\n",
    "o3d.visualization.draw_geometries([inlier_cloud, outlier_cloud])"
   ]
  },
  {
   "cell_type": "code",
   "execution_count": 2,
   "id": "fuzzy-warning",
   "metadata": {},
   "outputs": [],
   "source": [
    "#Write function to take pcd object and plane formula then subset points\n",
    "def remove_plane(pcdObject, modelArray, upr, lwr):\n",
    "    #Write list for output\n",
    "    goodIndices = []\n",
    "    #Convert pcd object to numpy array, save points; normals; and colors\n",
    "    pcdPoints = np.asarray(pcdObject.points)\n",
    "    pcdNormals = np.asarray(pcdObject.normals)\n",
    "    pcdColors = np.asarray(pcdObject.colors)\n",
    "    #Extract coefficients for plane equation\n",
    "    a = plane_model[0]\n",
    "    b = plane_model[1]\n",
    "    c = plane_model[2]\n",
    "    d = plane_model[3]\n",
    "    #evaluate plane equation for each point\n",
    "    for i in range(len(pcdPoints)):\n",
    "        x = pcdPoints[i][0]\n",
    "        y = pcdPoints[i][1]\n",
    "        z = pcdPoints[i][2]\n",
    "        if(a*x + b*y + c*z + d < upr and a*x + b*y + c*z + d > lwr):\n",
    "            goodIndices.append(i)\n",
    "    #subset array, convert array back to cloud\n",
    "    pcdNew = o3d.geometry.PointCloud()\n",
    "    pcdNew.points = o3d.utility.Vector3dVector(pcdPoints[goodIndices])\n",
    "    pcdNew.normals = o3d.utility.Vector3dVector(pcdNormals[goodIndices])\n",
    "    pcdNew.colors = o3d.utility.Vector3dVector(pcdColors[goodIndices])\n",
    "    return pcdNew"
   ]
  },
  {
   "cell_type": "code",
   "execution_count": 3,
   "id": "universal-frederick",
   "metadata": {},
   "outputs": [],
   "source": [
    "noPlanePcd = remove_plane(downpcd, plane_model, 0.1, 0.005)\n",
    "o3d.visualization.draw_geometries([noPlanePcd])"
   ]
  },
  {
   "cell_type": "markdown",
   "id": "brown-trunk",
   "metadata": {},
   "source": [
    "### Try not downsampling before plane segmentation"
   ]
  },
  {
   "cell_type": "code",
   "execution_count": 4,
   "id": "structured-butterfly",
   "metadata": {},
   "outputs": [
    {
     "name": "stdout",
     "output_type": "stream",
     "text": [
      "Plane equation: 0.01x + -0.04y + 1.00z + 0.55 = 0\n"
     ]
    }
   ],
   "source": [
    "#Identify plane in downsampled figure\n",
    "plane_model, inliers = pcd.segment_plane(distance_threshold=0.01,\n",
    "                                         ransac_n=3,\n",
    "                                         num_iterations=1000)\n",
    "[a, b, c, d] = plane_model\n",
    "print(f\"Plane equation: {a:.2f}x + {b:.2f}y + {c:.2f}z + {d:.2f} = 0\")\n",
    "\n",
    "inlier_cloud = pcd.select_by_index(inliers)\n",
    "inlier_cloud.paint_uniform_color([1.0, 0, 0])\n",
    "outlier_cloud = pcd.select_by_index(inliers, invert=True)\n",
    "o3d.visualization.draw_geometries([inlier_cloud, outlier_cloud])"
   ]
  },
  {
   "cell_type": "code",
   "execution_count": 5,
   "id": "coated-times",
   "metadata": {},
   "outputs": [],
   "source": [
    "noPlanePcd = remove_plane(pcd, plane_model, 0.1, 0.005)\n",
    "o3d.visualization.draw_geometries([noPlanePcd])"
   ]
  }
 ],
 "metadata": {
  "kernelspec": {
   "display_name": "Python 3",
   "language": "python",
   "name": "python3"
  },
  "language_info": {
   "codemirror_mode": {
    "name": "ipython",
    "version": 3
   },
   "file_extension": ".py",
   "mimetype": "text/x-python",
   "name": "python",
   "nbconvert_exporter": "python",
   "pygments_lexer": "ipython3",
   "version": "3.8.8"
  }
 },
 "nbformat": 4,
 "nbformat_minor": 5
}
