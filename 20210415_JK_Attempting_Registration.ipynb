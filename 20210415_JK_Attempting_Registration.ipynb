{
 "cells": [
  {
   "cell_type": "code",
   "execution_count": 130,
   "metadata": {},
   "outputs": [],
   "source": [
    "import numpy as np\n",
    "import open3d as o3d\n",
    "import copy"
   ]
  },
  {
   "cell_type": "code",
   "execution_count": 131,
   "metadata": {},
   "outputs": [],
   "source": [
    "def display_inlier_outlier(cloud, ind):\n",
    "    inlier_cloud = cloud.select_by_index(ind)\n",
    "    outlier_cloud = cloud.select_by_index(ind, invert=True)\n",
    "\n",
    "    print(\"Showing outliers (red) and inliers (gray): \")\n",
    "    outlier_cloud.paint_uniform_color([1, 0, 0])\n",
    "    inlier_cloud.paint_uniform_color([0.8, 0.8, 0.8])\n",
    "    o3d.visualization.draw_geometries([inlier_cloud, outlier_cloud])"
   ]
  },
  {
   "cell_type": "code",
   "execution_count": 132,
   "metadata": {},
   "outputs": [
    {
     "name": "stdout",
     "output_type": "stream",
     "text": [
      "Radius oulier removal\n",
      "[Open3D DEBUG] Precompute Neighbours\n",
      "[Open3D DEBUG] Done Precompute Neighbours\n",
      "[Open3D DEBUG] Compute Clusters\n",
      "[Open3D DEBUG] Done Compute Clusters: 4\n",
      "point cloud has 4 clusters\n"
     ]
    }
   ],
   "source": [
    "# image 1\n",
    "\n",
    "input_file = \"W-23-6a-slow_custom_0power_1.ply\"\n",
    "pcd = o3d.io.read_point_cloud(input_file) # Read the point cloud\n",
    "pcd = pcd.voxel_down_sample(voxel_size=0.005)\n",
    "\n",
    "print(\"Radius oulier removal\")\n",
    "cl, ind = pcd.remove_radius_outlier(nb_points=16, radius=0.05)\n",
    "#display_inlier_outlier(pcd, ind)\n",
    "\n",
    "pcd = pcd.select_by_index(ind)\n",
    "\n",
    "from matplotlib import pyplot as plt \n",
    "with o3d.utility.VerbosityContextManager(o3d.utility.VerbosityLevel.Debug) as cm:\n",
    "    labels = np.array(pcd.cluster_dbscan(eps=0.08, min_points=300, print_progress=True))\n",
    "    \n",
    "max_label = labels.max()\n",
    "print(f\"point cloud has {max_label + 1} clusters\")\n",
    "colors = plt.get_cmap(\"tab20\")(labels / (max_label if max_label > 0 else 1))\n",
    "colors[labels < 0] = 0\n",
    "pcd.colors = o3d.utility.Vector3dVector(colors[:, :3])\n",
    "#o3d.visualization.draw_geometries([pcd])\n",
    "\n",
    "finalPoints = np.asarray(pcd.points)[np.where(labels==3)]\n",
    "\n",
    "finalPcd_one = o3d.geometry.PointCloud()\n",
    "finalPcd_one.points = o3d.utility.Vector3dVector(finalPoints)\n",
    "\n",
    "#o3d.visualization.draw_geometries([finalPcd_one])\n",
    "\n",
    "pcd_down_one = finalPcd_one\n",
    "#points = np.asarray(pcd_down_one.points)\n",
    "#y_threshold = -0.12\n",
    "#mask = points[:,1] > y_threshold\n",
    "#pcd_down_one.points = o3d.utility.Vector3dVector(points[mask]) # normals and colors are unchanged\n",
    "\n",
    "o3d.visualization.draw_geometries([pcd_down_one])"
   ]
  },
  {
   "cell_type": "code",
   "execution_count": 133,
   "metadata": {},
   "outputs": [
    {
     "name": "stdout",
     "output_type": "stream",
     "text": [
      "Radius oulier removal\n",
      "[Open3D DEBUG] Precompute Neighbours\n",
      "[Open3D DEBUG] Done Precompute Neighbours\n",
      "[Open3D DEBUG] Compute Clusters\n",
      "[Open3D DEBUG] Done Compute Clusters: 4\n",
      "point cloud has 4 clusters\n"
     ]
    }
   ],
   "source": [
    "# image 2\n",
    "\n",
    "input_file = \"W-23-6a-slow_custom_0power_2.ply\"\n",
    "pcd = o3d.io.read_point_cloud(input_file) # Read the point cloud\n",
    "pcd = pcd.voxel_down_sample(voxel_size=0.005)\n",
    "\n",
    "print(\"Radius oulier removal\")\n",
    "cl, ind = pcd.remove_radius_outlier(nb_points=16, radius=0.05)\n",
    "#display_inlier_outlier(pcd, ind)\n",
    "\n",
    "pcd = pcd.select_by_index(ind)\n",
    "\n",
    "from matplotlib import pyplot as plt \n",
    "with o3d.utility.VerbosityContextManager(o3d.utility.VerbosityLevel.Debug) as cm:\n",
    "    labels = np.array(pcd.cluster_dbscan(eps=0.08, min_points=300, print_progress=True))\n",
    "    \n",
    "max_label = labels.max()\n",
    "print(f\"point cloud has {max_label + 1} clusters\")\n",
    "colors = plt.get_cmap(\"tab20\")(labels / (max_label if max_label > 0 else 1))\n",
    "colors[labels < 0] = 0\n",
    "pcd.colors = o3d.utility.Vector3dVector(colors[:, :3])\n",
    "#o3d.visualization.draw_geometries([pcd])\n",
    "\n",
    "finalPoints = np.asarray(pcd.points)[np.where(labels==3)]\n",
    "\n",
    "finalPcd_two = o3d.geometry.PointCloud()\n",
    "finalPcd_two.points = o3d.utility.Vector3dVector(finalPoints)\n",
    "\n",
    "#o3d.visualization.draw_geometries([finalPcd_two])\n",
    "\n",
    "pcd_down_two = finalPcd_two\n",
    "#points = np.asarray(pcd_down_two.points)\n",
    "#y_threshold = -0.12\n",
    "#mask = points[:,1] > y_threshold\n",
    "#pcd_down_two.points = o3d.utility.Vector3dVector(points[mask]) # normals and colors are unchanged\n",
    "\n",
    "o3d.visualization.draw_geometries([pcd_down_two])"
   ]
  },
  {
   "cell_type": "code",
   "execution_count": 134,
   "metadata": {},
   "outputs": [
    {
     "name": "stdout",
     "output_type": "stream",
     "text": [
      "Radius oulier removal\n",
      "[Open3D DEBUG] Precompute Neighbours\n",
      "[Open3D DEBUG] Done Precompute Neighbours\n",
      "[Open3D DEBUG] Compute Clusters\n",
      "[Open3D DEBUG] Done Compute Clusters: 6\n",
      "point cloud has 6 clusters\n"
     ]
    }
   ],
   "source": [
    "# image 3\n",
    "\n",
    "input_file = \"W-23-6a-slow_custom_0power_3.ply\"\n",
    "pcd = o3d.io.read_point_cloud(input_file) # Read the point cloud\n",
    "pcd = pcd.voxel_down_sample(voxel_size=0.005)\n",
    "\n",
    "print(\"Radius oulier removal\")\n",
    "cl, ind = pcd.remove_radius_outlier(nb_points=16, radius=0.05)\n",
    "#display_inlier_outlier(pcd, ind)\n",
    "\n",
    "pcd = pcd.select_by_index(ind)\n",
    "\n",
    "from matplotlib import pyplot as plt \n",
    "with o3d.utility.VerbosityContextManager(o3d.utility.VerbosityLevel.Debug) as cm:\n",
    "    labels = np.array(pcd.cluster_dbscan(eps=0.08, min_points=300, print_progress=True))\n",
    "    \n",
    "max_label = labels.max()\n",
    "print(f\"point cloud has {max_label + 1} clusters\")\n",
    "colors = plt.get_cmap(\"tab20\")(labels / (max_label if max_label > 0 else 1))\n",
    "colors[labels < 0] = 0\n",
    "pcd.colors = o3d.utility.Vector3dVector(colors[:, :3])\n",
    "#o3d.visualization.draw_geometries([pcd])\n",
    "\n",
    "finalPoints = np.asarray(pcd.points)[np.where(labels==1)]\n",
    "\n",
    "finalPcd_three = o3d.geometry.PointCloud()\n",
    "finalPcd_three.points = o3d.utility.Vector3dVector(finalPoints)\n",
    "\n",
    "#o3d.visualization.draw_geometries([finalPcd_three])\n",
    "\n",
    "pcd_down_three = finalPcd_three\n",
    "#points = np.asarray(pcd_down_three.points)\n",
    "#y_threshold = -0.12\n",
    "#mask = points[:,1] > y_threshold\n",
    "#pcd_down_three.points = o3d.utility.Vector3dVector(points[mask]) # normals and colors are unchanged\n",
    "\n",
    "o3d.visualization.draw_geometries([pcd_down_three])"
   ]
  },
  {
   "cell_type": "code",
   "execution_count": 135,
   "metadata": {},
   "outputs": [
    {
     "name": "stdout",
     "output_type": "stream",
     "text": [
      "Radius oulier removal\n",
      "[Open3D DEBUG] Precompute Neighbours\n",
      "[Open3D DEBUG] Done Precompute Neighbours\n",
      "[Open3D DEBUG] Compute Clusters\n",
      "[Open3D DEBUG] Done Compute Clusters: 6\n",
      "point cloud has 6 clusters\n"
     ]
    }
   ],
   "source": [
    "# image 4\n",
    "\n",
    "input_file = \"W-23-6a-slow_custom_0power_4.ply\"\n",
    "pcd = o3d.io.read_point_cloud(input_file) # Read the point cloud\n",
    "pcd = pcd.voxel_down_sample(voxel_size=0.005)\n",
    "\n",
    "print(\"Radius oulier removal\")\n",
    "cl, ind = pcd.remove_radius_outlier(nb_points=16, radius=0.05)\n",
    "#display_inlier_outlier(pcd, ind)\n",
    "\n",
    "pcd = pcd.select_by_index(ind)\n",
    "\n",
    "from matplotlib import pyplot as plt \n",
    "with o3d.utility.VerbosityContextManager(o3d.utility.VerbosityLevel.Debug) as cm:\n",
    "    labels = np.array(pcd.cluster_dbscan(eps=0.08, min_points=300, print_progress=True))\n",
    "    \n",
    "max_label = labels.max()\n",
    "print(f\"point cloud has {max_label + 1} clusters\")\n",
    "colors = plt.get_cmap(\"tab20\")(labels / (max_label if max_label > 0 else 1))\n",
    "colors[labels < 0] = 0\n",
    "pcd.colors = o3d.utility.Vector3dVector(colors[:, :3])\n",
    "#o3d.visualization.draw_geometries([pcd])\n",
    "\n",
    "finalPoints = np.asarray(pcd.points)[np.where(labels==3)]\n",
    "\n",
    "finalPcd_four = o3d.geometry.PointCloud()\n",
    "finalPcd_four.points = o3d.utility.Vector3dVector(finalPoints)\n",
    "\n",
    "#o3d.visualization.draw_geometries([finalPcd_four])\n",
    "\n",
    "pcd_down_four = finalPcd_four\n",
    "#points = np.asarray(pcd_down_four.points)\n",
    "#y_threshold = -0.12\n",
    "##mask = points[:,1] > y_threshold\n",
    "#pcd_down_four.points = o3d.utility.Vector3dVector(points[mask]) # normals and colors are unchanged\n",
    "\n",
    "o3d.visualization.draw_geometries([pcd_down_four])"
   ]
  },
  {
   "cell_type": "code",
   "execution_count": 136,
   "metadata": {},
   "outputs": [],
   "source": [
    "def execute_global_registration(source_down, target_down, source_fpfh,\n",
    "                                target_fpfh, voxel_size):\n",
    "    distance_threshold = voxel_size * 1.5\n",
    "    print(\":: RANSAC registration on downsampled point clouds.\")\n",
    "    print(\"   Since the downsampling voxel size is %.3f,\" % voxel_size)\n",
    "    print(\"   we use a liberal distance threshold %.3f.\" % distance_threshold)\n",
    "    result = o3d.pipelines.registration.registration_ransac_based_on_feature_matching(\n",
    "        source_down, target_down, source_fpfh, target_fpfh, True,\n",
    "        distance_threshold,\n",
    "        o3d.pipelines.registration.TransformationEstimationPointToPoint(False),\n",
    "        3, [\n",
    "            o3d.pipelines.registration.CorrespondenceCheckerBasedOnEdgeLength(\n",
    "                0.99),\n",
    "            o3d.pipelines.registration.CorrespondenceCheckerBasedOnDistance(\n",
    "                distance_threshold)\n",
    "        ], o3d.pipelines.registration.RANSACConvergenceCriteria(10000000, 0.999))\n",
    "    return result"
   ]
  },
  {
   "cell_type": "code",
   "execution_count": 137,
   "metadata": {},
   "outputs": [],
   "source": [
    "def draw_registration_result(source, target, transformation):\n",
    "    source_temp = copy.deepcopy(source)\n",
    "    target_temp = copy.deepcopy(target)\n",
    "    source_temp.paint_uniform_color([1, 0.706, 0])\n",
    "    target_temp.paint_uniform_color([0, 0.651, 0.929])\n",
    "    source_temp.transform(transformation)\n",
    "    o3d.visualization.draw_geometries([source_temp, target_temp])"
   ]
  },
  {
   "cell_type": "code",
   "execution_count": 138,
   "metadata": {},
   "outputs": [],
   "source": [
    "voxel_size=0.005\n",
    "radius_feature = voxel_size * 5\n",
    "radius_normal = voxel_size * 2\n",
    "\n",
    "pcd_down_one.estimate_normals(\n",
    "    o3d.geometry.KDTreeSearchParamHybrid(radius=radius_normal, max_nn=30))\n",
    "\n",
    "pcd_down_two.estimate_normals(\n",
    "    o3d.geometry.KDTreeSearchParamHybrid(radius=radius_normal, max_nn=30))\n",
    "\n",
    "pcd_down_three.estimate_normals(\n",
    "    o3d.geometry.KDTreeSearchParamHybrid(radius=radius_normal, max_nn=30))\n",
    "\n",
    "pcd_down_four.estimate_normals(\n",
    "    o3d.geometry.KDTreeSearchParamHybrid(radius=radius_normal, max_nn=30))\n",
    "\n",
    "pcd_fpfh_one = o3d.pipelines.registration.compute_fpfh_feature(\n",
    "    pcd_down_one,\n",
    "    o3d.geometry.KDTreeSearchParamHybrid(radius=radius_feature, max_nn=100))\n",
    "\n",
    "pcd_fpfh_two = o3d.pipelines.registration.compute_fpfh_feature(\n",
    "    pcd_down_two,\n",
    "    o3d.geometry.KDTreeSearchParamHybrid(radius=radius_feature, max_nn=100))\n",
    "\n",
    "pcd_fpfh_three = o3d.pipelines.registration.compute_fpfh_feature(\n",
    "    pcd_down_three,\n",
    "    o3d.geometry.KDTreeSearchParamHybrid(radius=radius_feature, max_nn=100))\n",
    "\n",
    "pcd_fpfh_four = o3d.pipelines.registration.compute_fpfh_feature(\n",
    "    pcd_down_four,\n",
    "    o3d.geometry.KDTreeSearchParamHybrid(radius=radius_feature, max_nn=100))"
   ]
  },
  {
   "cell_type": "code",
   "execution_count": 139,
   "metadata": {},
   "outputs": [
    {
     "name": "stdout",
     "output_type": "stream",
     "text": [
      ":: RANSAC registration on downsampled point clouds.\n",
      "   Since the downsampling voxel size is 0.005,\n",
      "   we use a liberal distance threshold 0.007.\n",
      "RegistrationResult with fitness=4.800000e-02, inlier_rmse=4.416493e-03, and correspondence_set size of 6\n",
      "Access transformation to get result.\n"
     ]
    }
   ],
   "source": [
    "result_ransac = execute_global_registration(pcd_down_one, pcd_down_two,\n",
    "                                            pcd_fpfh_one, pcd_fpfh_two,\n",
    "                                            voxel_size)\n",
    "print(result_ransac)\n",
    "draw_registration_result(pcd_down_one, pcd_down_two, result_ransac.transformation)"
   ]
  }
 ],
 "metadata": {
  "kernelspec": {
   "display_name": "Python 3",
   "language": "python",
   "name": "python3"
  },
  "language_info": {
   "codemirror_mode": {
    "name": "ipython",
    "version": 3
   },
   "file_extension": ".py",
   "mimetype": "text/x-python",
   "name": "python",
   "nbconvert_exporter": "python",
   "pygments_lexer": "ipython3",
   "version": "3.7.3"
  }
 },
 "nbformat": 4,
 "nbformat_minor": 4
}
