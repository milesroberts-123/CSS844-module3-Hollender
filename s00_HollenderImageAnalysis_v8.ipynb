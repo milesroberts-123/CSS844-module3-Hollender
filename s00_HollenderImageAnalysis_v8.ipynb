{
 "cells": [
  {
   "cell_type": "markdown",
   "id": "concrete-cooking",
   "metadata": {},
   "source": [
    "# Hollender 3D image analysis\n",
    "## Author: Miles Roberts\n",
    "## Last updated: 2021-04-16\n",
    "## Goals:\n",
    "* Read in .ply files\n",
    "* Process images to get baseline skeletons that all subgroups will work with\n",
    "* Measure cool phenotypes\n",
    "## Link to cookbook: http://www.open3d.org/docs/release/tutorial/geometry/pointcloud.html#"
   ]
  },
  {
   "cell_type": "markdown",
   "id": "strange-organizer",
   "metadata": {},
   "source": [
    "## Import modules"
   ]
  },
  {
   "cell_type": "code",
   "execution_count": 2,
   "id": "false-willow",
   "metadata": {},
   "outputs": [],
   "source": [
    "import numpy as np\n",
    "import open3d as o3d\n",
    "from matplotlib import pyplot as plt\n",
    "import skimage.morphology\n",
    "import sknw\n",
    "import scipy.ndimage"
   ]
  },
  {
   "cell_type": "markdown",
   "id": "adjusted-haiti",
   "metadata": {},
   "source": [
    "## Write functions"
   ]
  },
  {
   "cell_type": "code",
   "execution_count": 3,
   "id": "varied-wings",
   "metadata": {},
   "outputs": [],
   "source": [
    "#Write function to take pcd object and plane formula then subset points\n",
    "def remove_plane(pcdObject, modelArray, upr, lwr):\n",
    "    #Write list for output\n",
    "    goodIndices = []\n",
    "    #Convert pcd object to numpy array, save points; normals; and colors\n",
    "    pcdPoints = np.asarray(pcdObject.points)\n",
    "    pcdNormals = np.asarray(pcdObject.normals)\n",
    "    pcdColors = np.asarray(pcdObject.colors)\n",
    "    #Extract coefficients for plane equation\n",
    "    a = plane_model[0]\n",
    "    b = plane_model[1]\n",
    "    c = plane_model[2]\n",
    "    d = plane_model[3]\n",
    "    #evaluate plane equation for each point\n",
    "    for i in range(len(pcdPoints)):\n",
    "        x = pcdPoints[i][0]\n",
    "        y = pcdPoints[i][1]\n",
    "        z = pcdPoints[i][2]\n",
    "        if(a*x + b*y + c*z + d < upr and a*x + b*y + c*z + d > lwr):\n",
    "            goodIndices.append(i)\n",
    "    #subset array, convert array back to cloud\n",
    "    pcdNew = o3d.geometry.PointCloud()\n",
    "    pcdNew.points = o3d.utility.Vector3dVector(pcdPoints[goodIndices])\n",
    "    pcdNew.normals = o3d.utility.Vector3dVector(pcdNormals[goodIndices])\n",
    "    pcdNew.colors = o3d.utility.Vector3dVector(pcdColors[goodIndices])\n",
    "    return pcdNew\n",
    "\n",
    "\n",
    "######################################################################\n",
    "def remove_xzplane(pcdObject, lwr, upr):\n",
    "    #Write list for output\n",
    "    goodIndices = []\n",
    "    #Convert pcd object to numpy array, save points; normals; and colors\n",
    "    pcdPoints = np.asarray(pcdObject.points)\n",
    "    pcdNormals = np.asarray(pcdObject.normals)\n",
    "    pcdColors = np.asarray(pcdObject.colors)\n",
    "    #evaluate plane equation for each point\n",
    "    for i in range(len(pcdPoints)):\n",
    "        x = abs(pcdPoints[i][0])\n",
    "        if(x < upr and x > lwr):\n",
    "            goodIndices.append(i)\n",
    "    #subset array, convert array back to cloud\n",
    "    pcdNew = o3d.geometry.PointCloud()\n",
    "    pcdNew.points = o3d.utility.Vector3dVector(pcdPoints[goodIndices])\n",
    "    pcdNew.normals = o3d.utility.Vector3dVector(pcdNormals[goodIndices])\n",
    "    pcdNew.colors = o3d.utility.Vector3dVector(pcdColors[goodIndices])\n",
    "    return pcdNew\n",
    "\n",
    "######################################################################\n",
    "#Write function to take pcd object and plane formula then subset points\n",
    "def remove_xyplane(pcdObject, lwr, upr):\n",
    "    #Write list for output\n",
    "    goodIndices = []\n",
    "    #Convert pcd object to numpy array, save points; normals; and colors\n",
    "    pcdPoints = np.asarray(pcdObject.points)\n",
    "    pcdNormals = np.asarray(pcdObject.normals)\n",
    "    pcdColors = np.asarray(pcdObject.colors)\n",
    "    #evaluate plane equation for each point\n",
    "    for i in range(len(pcdPoints)):\n",
    "        y = pcdPoints[i][1]\n",
    "        if(y < upr and y > lwr):\n",
    "            goodIndices.append(i)\n",
    "    #subset array, convert array back to cloud\n",
    "    pcdNew = o3d.geometry.PointCloud()\n",
    "    pcdNew.points = o3d.utility.Vector3dVector(pcdPoints[goodIndices])\n",
    "    pcdNew.normals = o3d.utility.Vector3dVector(pcdNormals[goodIndices])\n",
    "    pcdNew.colors = o3d.utility.Vector3dVector(pcdColors[goodIndices])\n",
    "    return pcdNew\n",
    "\n",
    "###Code to show which points are removed as outliers\n",
    "#got code from here: http://www.open3d.org/docs/release/tutorial/geometry/pointcloud_outlier_removal.html#Statistical-outlier-removal\n",
    "def display_inlier_outlier(cloud, ind):\n",
    "    inlier_cloud = cloud.select_by_index(ind)\n",
    "    outlier_cloud = cloud.select_by_index(ind, invert=True)\n",
    "\n",
    "    print(\"Showing outliers (red) and inliers (gray): \")\n",
    "    outlier_cloud.paint_uniform_color([1, 0, 0])\n",
    "    inlier_cloud.paint_uniform_color([0.8, 0.8, 0.8])\n",
    "    o3d.visualization.draw_geometries([inlier_cloud, outlier_cloud])\n",
    "\n",
    "######################################################################\n",
    "#Input: open3d point cloud object, and a whole number of intervals to partition each dimmension into\n",
    "#Output: a matrix of true/false values marking which voxels include at least one point\n",
    "def pcd2bimg(pcdObject, resolution):\n",
    "    #Extract coordinates from point cloud\n",
    "    Coord = np.asarray(pcdObject.points)\n",
    "    xCoord = [Coord[i][0] for i in range(len(Coord))]\n",
    "    yCoord = [Coord[i][1] for i in range(len(Coord))]\n",
    "    zCoord = [Coord[i][2] for i in range(len(Coord))]\n",
    "\n",
    "    #Get vertices of overall bounding box\n",
    "    xmin = min(xCoord)\n",
    "    xmax = max(xCoord)\n",
    "    xrange = xmax - xmin\n",
    "\n",
    "    ymin = min(yCoord)\n",
    "    ymax = max(yCoord)\n",
    "    yrange = ymax - ymin\n",
    "\n",
    "    zmin = min(zCoord)\n",
    "    zmax = max(zCoord)\n",
    "    zrange = zmax - zmin\n",
    "\n",
    "    #calculate side lengths of voxels (i.e. the l's). Higher number of voxels (i.e. the n's) means higher resolution\n",
    "    xl = xrange/resolution\n",
    "    yl = yrange/resolution\n",
    "    zl = zrange/resolution\n",
    "\n",
    "    #Create empty 3d numpty array to store result\n",
    "    bimg = np.zeros((resolution, resolution, resolution))\n",
    "\n",
    "    #Loop over individual voxels, label true if they contain points\n",
    "    for k in range(resolution):\n",
    "        zvox1 = zmin + zl*k #determine bounds of voxel\n",
    "        zvox2 = zmin + zl*(k+1)\n",
    "        zvoxmin = min(zvox1, zvox2)\n",
    "        zvoxmax = max(zvox1, zvox2)\n",
    "        for j in range(resolution):\n",
    "            yvox1 = ymin + yl*j\n",
    "            yvox2 = ymin + yl*(j+1)\n",
    "            yvoxmin = min(yvox1, yvox2)\n",
    "            yvoxmax = max(yvox1, yvox2)\n",
    "            for i in range(resolution):\n",
    "                xvox1 = xmin + xl*i\n",
    "                xvox2 = xmin + xl*(i+1)\n",
    "                xvoxmin = min(xvox1, xvox2)\n",
    "                xvoxmax = max(xvox1, xvox2)\n",
    "                #Loop over the point cloud coordinates, if a coordinate falls within bounds of voxel, label entire voxel with a 1\n",
    "                for row in Coord:\n",
    "                    if xvoxmin < row[0] < xvoxmax and yvoxmin < row[1] < yvoxmax and zvoxmin < row[2] < zvoxmax:\n",
    "                        bimg[i,j,k] = 1\n",
    "                        break\n",
    "\n",
    "    #Convert matrix to boolean type\n",
    "    bimgBool = np.array(bimg, dtype=bool)\n",
    "    \n",
    "    return bimgBool"
   ]
  },
  {
   "cell_type": "markdown",
   "id": "seven-motor",
   "metadata": {},
   "source": [
    "## Read in point cloud data"
   ]
  },
  {
   "cell_type": "code",
   "execution_count": 4,
   "id": "individual-toddler",
   "metadata": {},
   "outputs": [],
   "source": [
    "# Read .ply file\n",
    "input_file = \"./Hollender_arabidopsis/arabidopsis lab test 4 (col).ply\"\n",
    "pcd = o3d.io.read_point_cloud(input_file) # Read the point cloud\n",
    "\n",
    "# Visualize the point cloud within open3d\n",
    "o3d.visualization.draw_geometries([pcd]) "
   ]
  },
  {
   "cell_type": "markdown",
   "id": "dedicated-bidder",
   "metadata": {},
   "source": [
    "## Isolate plant in point cloud"
   ]
  },
  {
   "cell_type": "markdown",
   "id": "pursuant-rouge",
   "metadata": {},
   "source": [
    "### Downsample"
   ]
  },
  {
   "cell_type": "code",
   "execution_count": 5,
   "id": "dental-messenger",
   "metadata": {},
   "outputs": [],
   "source": [
    "#Downsampling\n",
    "downpcd = pcd.voxel_down_sample(voxel_size=0.015)\n",
    "o3d.visualization.draw_geometries([downpcd])"
   ]
  },
  {
   "cell_type": "markdown",
   "id": "continuous-bridal",
   "metadata": {},
   "source": [
    "### Remove plane"
   ]
  },
  {
   "cell_type": "code",
   "execution_count": 6,
   "id": "revolutionary-harbor",
   "metadata": {},
   "outputs": [
    {
     "name": "stdout",
     "output_type": "stream",
     "text": [
      "Plane equation: 0.01x + -0.05y + 1.00z + 0.55 = 0\n"
     ]
    }
   ],
   "source": [
    "#Identify plane in downsampled figure\n",
    "plane_model, inliers = downpcd.segment_plane(distance_threshold=0.01,\n",
    "                                         ransac_n=3,\n",
    "                                         num_iterations=1000)\n",
    "[a, b, c, d] = plane_model\n",
    "print(f\"Plane equation: {a:.2f}x + {b:.2f}y + {c:.2f}z + {d:.2f} = 0\")\n",
    "\n",
    "inlier_cloud = downpcd.select_by_index(inliers)\n",
    "inlier_cloud.paint_uniform_color([1.0, 0, 0])\n",
    "outlier_cloud = downpcd.select_by_index(inliers, invert=True)\n",
    "o3d.visualization.draw_geometries([inlier_cloud, outlier_cloud])\n",
    "\n",
    "#Remove plane\n",
    "noPlanePcd = remove_plane(downpcd, plane_model, 0.1, 0.005)\n",
    "o3d.visualization.draw_geometries([noPlanePcd])"
   ]
  },
  {
   "cell_type": "markdown",
   "id": "incoming-forth",
   "metadata": {},
   "source": [
    "### Crop along the other axes to isolate the plant"
   ]
  },
  {
   "cell_type": "code",
   "execution_count": 56,
   "id": "immediate-adobe",
   "metadata": {},
   "outputs": [],
   "source": [
    "noXZplanePcd = remove_xzplane(noPlanePcd, 0, 0.15)\n",
    "o3d.visualization.draw_geometries([noXZplanePcd])"
   ]
  },
  {
   "cell_type": "code",
   "execution_count": 57,
   "id": "gross-reception",
   "metadata": {},
   "outputs": [],
   "source": [
    "noXYplanePcd = remove_xyplane(noXZplanePcd, -0.02, 0.21)\n",
    "o3d.visualization.draw_geometries([noXYplanePcd])"
   ]
  },
  {
   "cell_type": "markdown",
   "id": "eligible-nowhere",
   "metadata": {},
   "source": [
    "### Finally, Use DBSCAN clustering to find largest point cloud (i.e. the plant)"
   ]
  },
  {
   "cell_type": "code",
   "execution_count": 69,
   "id": "spatial-jungle",
   "metadata": {},
   "outputs": [
    {
     "name": "stdout",
     "output_type": "stream",
     "text": [
      "[Open3D DEBUG] Precompute Neighbours\n",
      "[Open3D DEBUG] Done Precompute Neighbours\n",
      "[Open3D DEBUG] Compute Clusters\n",
      "[Open3D DEBUG] Done Compute Clusters: 3\n",
      "point cloud has 3 clusters\n"
     ]
    }
   ],
   "source": [
    "with o3d.utility.VerbosityContextManager(o3d.utility.VerbosityLevel.Debug) as cm:\n",
    "    labels = np.array(noXYplanePcd.cluster_dbscan(eps=0.05, min_points=100, print_progress=True))\n",
    "\n",
    "max_label = labels.max()\n",
    "print(f\"point cloud has {max_label + 1} clusters\")\n",
    "colors = plt.get_cmap(\"tab20\")(labels / (max_label if max_label > 0 else 1))\n",
    "colors[labels < 0] = 0\n",
    "noXYplanePcd.colors = o3d.utility.Vector3dVector(colors[:, :3])\n",
    "o3d.visualization.draw_geometries([noXYplanePcd])"
   ]
  },
  {
   "cell_type": "code",
   "execution_count": 70,
   "id": "cardiovascular-forwarding",
   "metadata": {},
   "outputs": [],
   "source": [
    "finalPoints = np.asarray(noXYplanePcd.points)[np.where(labels==0)]\n",
    "finalPcd = o3d.geometry.PointCloud()\n",
    "finalPcd.points = o3d.utility.Vector3dVector(finalPoints)\n",
    "o3d.visualization.draw_geometries([finalPcd])"
   ]
  },
  {
   "cell_type": "markdown",
   "id": "military-mercy",
   "metadata": {},
   "source": [
    "### Filter outlier points"
   ]
  },
  {
   "cell_type": "code",
   "execution_count": 72,
   "id": "marine-headquarters",
   "metadata": {
    "scrolled": true
   },
   "outputs": [
    {
     "name": "stdout",
     "output_type": "stream",
     "text": [
      "Showing outliers (red) and inliers (gray): \n"
     ]
    }
   ],
   "source": [
    "pcdNoOut, ind = finalPcd.remove_statistical_outlier(nb_neighbors=20,std_ratio=1.25)\n",
    "display_inlier_outlier(finalPcd, ind)"
   ]
  },
  {
   "cell_type": "code",
   "execution_count": 73,
   "id": "combined-account",
   "metadata": {},
   "outputs": [],
   "source": [
    "o3d.visualization.draw_geometries([pcdNoOut])"
   ]
  },
  {
   "cell_type": "markdown",
   "id": "narrow-stage",
   "metadata": {},
   "source": [
    "## Construct graph of plant point cloud"
   ]
  },
  {
   "cell_type": "markdown",
   "id": "weird-phase",
   "metadata": {},
   "source": [
    "### Parition points into voxels to be skeletonized later"
   ]
  },
  {
   "cell_type": "code",
   "execution_count": null,
   "id": "catholic-photographer",
   "metadata": {},
   "outputs": [],
   "source": [
    "bimg = pcd2bimg(pcdNoOut, 200)"
   ]
  },
  {
   "cell_type": "markdown",
   "id": "italian-pizza",
   "metadata": {},
   "source": [
    "### Skeletonize image, visualize skeleton"
   ]
  },
  {
   "cell_type": "code",
   "execution_count": null,
   "id": "answering-fortune",
   "metadata": {},
   "outputs": [],
   "source": [
    "bimgSkel = skimage.morphology.skeletonize_3d(bimg).astype(np.uint16)\n",
    "#bimgErod = skimage.morphology.binary_erosion(bimg)\n",
    "bimgErod = scipy.ndimage.binary_erosion(bimg, iterations = 2)\n",
    "\n",
    "graph = sknw.build_sknw(bimgSkel, multi=False)\n",
    "\n",
    "#Extract location of individual nodes, convert back to point cloud object, draw edges of graph\n",
    "lines = [[s,e] for (s,e) in graph.edges()]\n",
    "points = [[graph.nodes[i]['pts'][0][0],graph.nodes[i]['pts'][0][1],graph.nodes[i]['pts'][0][2]] for i in range(len(graph.nodes()))]\n",
    "\n",
    "colors = [[1, 0, 0] for i in range(len(lines))] #All lines will be colored red\n",
    "line_set = o3d.geometry.LineSet(\n",
    "    points=o3d.utility.Vector3dVector(points),\n",
    "    lines=o3d.utility.Vector2iVector(lines),\n",
    ")\n",
    "line_set.colors = o3d.utility.Vector3dVector(colors)\n",
    "o3d.visualization.draw_geometries([line_set])\n",
    "\n",
    "#draw just point cloud\n",
    "bimgPcd = o3d.geometry.PointCloud()\n",
    "bimgPcd.points = o3d.utility.Vector3dVector(points)\n",
    "o3d.visualization.draw_geometries([bimgPcd])"
   ]
  }
 ],
 "metadata": {
  "kernelspec": {
   "display_name": "Python 3",
   "language": "python",
   "name": "python3"
  },
  "language_info": {
   "codemirror_mode": {
    "name": "ipython",
    "version": 3
   },
   "file_extension": ".py",
   "mimetype": "text/x-python",
   "name": "python",
   "nbconvert_exporter": "python",
   "pygments_lexer": "ipython3",
   "version": "3.8.8"
  }
 },
 "nbformat": 4,
 "nbformat_minor": 5
}
